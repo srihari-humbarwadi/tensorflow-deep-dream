{
 "cells": [
  {
   "cell_type": "code",
   "execution_count": 1,
   "metadata": {},
   "outputs": [],
   "source": [
    "import tensorflow as tf\n",
    "import numpy as np\n",
    "import PIL.Image as Image\n",
    "from tqdm import tqdm_notebook\n",
    "from scipy.ndimage.filters import gaussian_filter"
   ]
  },
  {
   "cell_type": "code",
   "execution_count": 2,
   "metadata": {},
   "outputs": [],
   "source": [
    "graph = tf.Graph()\n",
    "with graph.as_default():\n",
    "    with tf.gfile.FastGFile('tensorflow_inception_graph.pb', 'rb') as f:\n",
    "        graph_def = tf.GraphDef()\n",
    "        graph_def.ParseFromString(f.read())\n",
    "        tf.import_graph_def(graph_def, name='')\n",
    "input_tensor = graph.get_tensor_by_name('input:0')\n",
    "layer_names = ['conv2d0', 'conv2d1', 'conv2d2',\n",
    "                'mixed3a', 'mixed3b',\n",
    "                'mixed4a', 'mixed4b', 'mixed4c', 'mixed4d', 'mixed4e',\n",
    "                'mixed5a', 'mixed5b']\n",
    "layers = [graph.get_tensor_by_name(name + \":0\") for name in layer_names]\n",
    "session = tf.InteractiveSession(graph=graph)"
   ]
  },
  {
   "cell_type": "code",
   "execution_count": 3,
   "metadata": {},
   "outputs": [],
   "source": [
    "def fetch_gradient(layer):\n",
    "        with graph.as_default():\n",
    "            layer = tf.square(layer)\n",
    "            tensor_mean = tf.reduce_mean(layer)\n",
    "            gradient = tf.gradients(tensor_mean, input_tensor)[0]\n",
    "        return gradient"
   ]
  },
  {
   "cell_type": "code",
   "execution_count": 21,
   "metadata": {},
   "outputs": [],
   "source": [
    "def get_image_array(image_path):\n",
    "    image = Image.open(image_path)\n",
    "    image = np.float32(image)\n",
    "    return image\n",
    "\n",
    "def show_image(image_array):\n",
    "    image_array = np.uint8(np.clip(image_array, 0, 255))\n",
    "    display(Image.fromarray(image_array))\n",
    "    \n",
    "def resize(image_array, factor=None, size=None):\n",
    "    image_array = np.uint8(np.clip(image_array, 0, 255))\n",
    "    if factor is not None:\n",
    "        size = np.array(image_array.shape[0:2])\n",
    "        size = size * factor\n",
    "        size = size.astype(int)\n",
    "    else:\n",
    "        size = size[0:2]\n",
    "    size = tuple(reversed(size))\n",
    "    image = Image.fromarray(image_array)\n",
    "    image = image.resize(size, Image.LANCZOS)\n",
    "    return np.float32(image)\n",
    "\n",
    "def save_image(image, image_name):\n",
    "    image = np.clip(image, 0.0, 255.0)\n",
    "    image = image.astype(np.uint8)\n",
    "    with open(image_name, 'wb') as f:\n",
    "        Image.fromarray(image).save(f, 'jpeg')"
   ]
  },
  {
   "cell_type": "code",
   "execution_count": 5,
   "metadata": {},
   "outputs": [],
   "source": [
    "def dream(layer, image, iterations, modification_rate):\n",
    "    output = image.copy()\n",
    "    gradient = fetch_gradient(layer)\n",
    "    image = np.expand_dims(image, axis=0)\n",
    "    feed_dict = {input_tensor : image}\n",
    "    for _ in range(iterations):\n",
    "        computed_gradient = session.run(gradient, feed_dict=feed_dict)\n",
    "        blur = 0.8\n",
    "        computed_gradient = gaussian_filter(computed_gradient, sigma=blur)\n",
    "        computed_gradient = np.squeeze(computed_gradient)\n",
    "        output += computed_gradient * modification_rate\n",
    "    return output"
   ]
  },
  {
   "cell_type": "code",
   "execution_count": 6,
   "metadata": {},
   "outputs": [],
   "source": [
    "def dream_within_a_dream(layer, image, dream_depth, iterations, modification_rate, factor, mix_factor, blur):\n",
    "    if dream_depth > 0:\n",
    "        blurred_image = gaussian_filter(image, sigma=(blur, blur, 0))\n",
    "        downscaled_image = resize(blurred_image, factor)\n",
    "        result = dream_within_a_dream(layer,\n",
    "                                      downscaled_image,\n",
    "                                      dream_depth-1,\n",
    "                                      iterations,\n",
    "                                      modification_rate,\n",
    "                                      factor,\n",
    "                                      mix_factor,\n",
    "                                      blur)\n",
    "        upscaled_image = resize(result, size=image.shape)\n",
    "        image = mix_factor*image + (1-mix_factor)*upscaled_image\n",
    "    result = dream(layer, image, iterations, modification_rate)\n",
    "    return result\n",
    "    "
   ]
  },
  {
   "cell_type": "code",
   "execution_count": null,
   "metadata": {},
   "outputs": [
    {
     "name": "stdout",
     "output_type": "stream",
     "text": [
      "Maximizing layer:  8\n",
      "Maximizing layer:  5\n",
      "Maximizing layer:  9\n",
      "Maximizing layer:  11\n"
     ]
    }
   ],
   "source": [
    "image_name = 'thanos.jpg'\n",
    "image = get_image_array(image_name)\n",
    "prev = []\n",
    "for x in range(65):\n",
    "    random = np.random.randint(3, 12)\n",
    "    if random in prev:\n",
    "        continue\n",
    "    if x % 4 == 0:\n",
    "        prev = []\n",
    "    print('Maximizing layer: ', random)\n",
    "    image = dream_within_a_dream(layer=layers[random],\n",
    "                         image=image,\n",
    "                         dream_depth=5,\n",
    "                         iterations=10,\n",
    "                         modification_rate=20,\n",
    "                         factor=0.7,\n",
    "                         mix_factor=0.2,\n",
    "                         blur=0.01)\n",
    "    save_image(image,f'results/dream_within_a_dream/{image_name}-{x}')\n",
    "    prev.append(random)"
   ]
  },
  {
   "cell_type": "code",
   "execution_count": null,
   "metadata": {},
   "outputs": [],
   "source": []
  }
 ],
 "metadata": {
  "kernelspec": {
   "display_name": "Python 3",
   "language": "python",
   "name": "python3"
  },
  "language_info": {
   "codemirror_mode": {
    "name": "ipython",
    "version": 3
   },
   "file_extension": ".py",
   "mimetype": "text/x-python",
   "name": "python",
   "nbconvert_exporter": "python",
   "pygments_lexer": "ipython3",
   "version": "3.6.5"
  }
 },
 "nbformat": 4,
 "nbformat_minor": 2
}
